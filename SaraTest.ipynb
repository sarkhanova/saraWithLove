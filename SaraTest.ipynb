{
    "cells": [
        {
            "cell_type": "markdown",
            "metadata": {
                "collapsed": true
            },
            "source": "# My Jupyter Notebook on IBM Watson Studio"
        },
        {
            "cell_type": "markdown",
            "metadata": {},
            "source": "**Sara KHAIRI**   \nPh.D. in computer science and telecommunications"
        },
        {
            "cell_type": "markdown",
            "metadata": {},
            "source": "*I am interested in data science because it would be beneficial for my thesis. I need to take this course to strengthen my skills and find a good job.*"
        },
        {
            "cell_type": "markdown",
            "metadata": {},
            "source": "### The code below will show the type of the number x "
        },
        {
            "cell_type": "code",
            "execution_count": 2,
            "metadata": {},
            "outputs": [
                {
                    "data": {
                        "text/plain": "float"
                    },
                    "execution_count": 2,
                    "metadata": {},
                    "output_type": "execute_result"
                }
            ],
            "source": "x=40.6\ntype(x)"
        },
        {
            "cell_type": "markdown",
            "metadata": {},
            "source": "> This is a blockquote.     \n\n> Below is a horizontal rule.     \n\n* Horizontal rule  \n\n---\n\n> Below is a link to an image.   \n\n[This is a link to an image from IBM gallery!](https://newsroom.ibm.com/file.php/193572/Select+3.jpg?thumbnail=modal)\n\n> Below is an other image.  \n\n![From IBM gallery!](https://newsroom.ibm.com/file.php/193705/003522_IBM_Mayflower_Ep_8_DroneStringout.3556.Still011.jpg?thumbnail=modal)\n\n> Below is an numbered list.     \n\n1. Jupyter notebook.\n2. Skills Network Labs.\n3. IBM Watson.\n\n> Below is a table.     \n\n|Thanks | For | the | course   |\n| ----- | --- | --- | -------- |\n|This   | is  | so  | Helpfull | "
        },
        {
            "cell_type": "code",
            "execution_count": null,
            "metadata": {},
            "outputs": [],
            "source": ""
        }
    ],
    "metadata": {
        "kernelspec": {
            "display_name": "Python 3.9",
            "language": "python",
            "name": "python3"
        },
        "language_info": {
            "codemirror_mode": {
                "name": "ipython",
                "version": 3
            },
            "file_extension": ".py",
            "mimetype": "text/x-python",
            "name": "python",
            "nbconvert_exporter": "python",
            "pygments_lexer": "ipython3",
            "version": "3.9.12"
        }
    },
    "nbformat": 4,
    "nbformat_minor": 1
}